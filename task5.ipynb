{
 "cells": [
  {
   "cell_type": "markdown",
   "id": "e19234e1-114b-416d-aebc-3fa84eb25561",
   "metadata": {},
   "source": [
    "## Lets Discuss five example of dictionary having same data type "
   ]
  },
  {
   "cell_type": "code",
   "execution_count": 2,
   "id": "b116ea21-459e-4cc5-be75-d3a8901867dd",
   "metadata": {},
   "outputs": [],
   "source": [
    "D_integer = {\n",
    "    \"a\": 1,\n",
    "    \"b\": 2,\n",
    "    \"c\": 3,\n",
    "    \"d\": 4,\n",
    "    \"e\": 5\n",
    "}"
   ]
  },
  {
   "cell_type": "code",
   "execution_count": 3,
   "id": "7acb32ac-cdfc-4bea-b62e-713096450166",
   "metadata": {},
   "outputs": [
    {
     "name": "stdout",
     "output_type": "stream",
     "text": [
      "{'a': 1, 'b': 2, 'c': 3, 'd': 4, 'e': 5}\n"
     ]
    }
   ],
   "source": [
    "print(D_integer )"
   ]
  },
  {
   "cell_type": "code",
   "execution_count": 4,
   "id": "bb2035ac-6a71-4fa6-a620-e0da578866a8",
   "metadata": {},
   "outputs": [],
   "source": [
    "D_String = {\n",
    "     \"first_name\": \"Nikita\",\n",
    "    \"last_name\": \"Bhujade\",\n",
    "    \"city\": \"Nagpur\",\n",
    "    \"country\": \"india\",\n",
    "    \"occupation\": \"Engineer\"\n",
    "}"
   ]
  },
  {
   "cell_type": "code",
   "execution_count": 5,
   "id": "e5f86a09-5649-4f8e-92fd-9185828d3ab7",
   "metadata": {},
   "outputs": [
    {
     "name": "stdout",
     "output_type": "stream",
     "text": [
      "{'first_name': 'Nikita', 'last_name': 'Bhujade', 'city': 'Nagpur', 'country': 'india', 'occupation': 'Engineer'}\n"
     ]
    }
   ],
   "source": [
    "print(D_String )"
   ]
  },
  {
   "cell_type": "code",
   "execution_count": 6,
   "id": "bbddddb6-9cf4-40c6-8627-a70cb172e0f2",
   "metadata": {},
   "outputs": [],
   "source": [
    "D_float= {\n",
    "    \"Tomato\": 23.14,\n",
    "    \"potato\": 40.72,\n",
    "    \"Onion\": 70.34,\n",
    "    \"cabbage\": 22.56,\n",
    "    \"chilly\": 30.45\n",
    "}"
   ]
  },
  {
   "cell_type": "code",
   "execution_count": 7,
   "id": "dcca62dd-2644-4d2a-a7b4-999bdbeac64d",
   "metadata": {},
   "outputs": [
    {
     "name": "stdout",
     "output_type": "stream",
     "text": [
      "{'Tomato': 23.14, 'potato': 40.72, 'Onion': 70.34, 'cabbage': 22.56, 'chilly': 30.45}\n"
     ]
    }
   ],
   "source": [
    "print(D_float)"
   ]
  },
  {
   "cell_type": "code",
   "execution_count": 8,
   "id": "601560d8-88d5-4b60-bee2-02995adc1303",
   "metadata": {},
   "outputs": [],
   "source": [
    "D_boolean= {\n",
    "    \"is_active\": True,\n",
    "    \"is_admin\": False,\n",
    "    \"has_access\": True,\n",
    "    \"is_verified\": False,\n",
    "    \"is_subscribed\": True\n",
    "}"
   ]
  },
  {
   "cell_type": "code",
   "execution_count": 9,
   "id": "d2eb2861-e25e-47d7-953f-d194040ceb92",
   "metadata": {},
   "outputs": [
    {
     "name": "stdout",
     "output_type": "stream",
     "text": [
      "{'is_active': True, 'is_admin': False, 'has_access': True, 'is_verified': False, 'is_subscribed': True}\n"
     ]
    }
   ],
   "source": [
    "print(D_boolean)"
   ]
  },
  {
   "cell_type": "code",
   "execution_count": 10,
   "id": "a616c50d-787a-4da1-8de6-f660683a7f21",
   "metadata": {},
   "outputs": [],
   "source": [
    "list_dict = {\n",
    "    \"prime_numbers\": [2, 3, 5, 7, 11],\n",
    "    \"even_numbers\": [2, 4, 6, 8, 10],\n",
    "    \"odd_numbers\": [1, 3, 5, 7, 9],\n",
    "    \"fibonacci\": [0, 1, 1, 2, 3],\n",
    "    \"squares\": [1, 4, 9, 16, 25]\n",
    "}"
   ]
  },
  {
   "cell_type": "code",
   "execution_count": 11,
   "id": "f68733b8-b414-4c4e-868a-bac46c73a342",
   "metadata": {},
   "outputs": [
    {
     "name": "stdout",
     "output_type": "stream",
     "text": [
      "{'prime_numbers': [2, 3, 5, 7, 11], 'even_numbers': [2, 4, 6, 8, 10], 'odd_numbers': [1, 3, 5, 7, 9], 'fibonacci': [0, 1, 1, 2, 3], 'squares': [1, 4, 9, 16, 25]}\n"
     ]
    }
   ],
   "source": [
    "print(list_dict )"
   ]
  },
  {
   "cell_type": "markdown",
   "id": "a252c385-7aad-48e1-9c27-f662351d38e6",
   "metadata": {},
   "source": [
    "## Dictionary with Mixed Data Types"
   ]
  },
  {
   "cell_type": "code",
   "execution_count": 13,
   "id": "d838f786-3c8d-4169-903a-885f3436c798",
   "metadata": {},
   "outputs": [],
   "source": [
    "mixed_dict1 = {\n",
    "    \"id\": 101,\n",
    "    \"name\": \"Nikita\",\n",
    "    \"is_student\": True,\n",
    "    \"age\": 26,\n",
    "    \"height\": 5.5\n",
    "}"
   ]
  },
  {
   "cell_type": "code",
   "execution_count": 14,
   "id": "1a8874d3-e3bf-4360-beeb-6d248ba7113e",
   "metadata": {},
   "outputs": [
    {
     "name": "stdout",
     "output_type": "stream",
     "text": [
      "{'id': 101, 'name': 'Nikita', 'is_student': True, 'age': 26, 'height': 5.5}\n"
     ]
    }
   ],
   "source": [
    "print(mixed_dict1)"
   ]
  },
  {
   "cell_type": "code",
   "execution_count": 15,
   "id": "1f286646-c256-411c-a735-e4724a831531",
   "metadata": {},
   "outputs": [],
   "source": [
    "mixed_dict2 = {\n",
    "    \"title\": \"Data Analyst\",\n",
    "    \"skills\": [\"Python\", \"SQL\", \"Power BI\"],\n",
    "    \"experience_years\": 3,\n",
    "    \"location\": \"Nagpur\",\n",
    "    \"salary\": 30000\n",
    "}"
   ]
  },
  {
   "cell_type": "code",
   "execution_count": 16,
   "id": "65387d78-9ae0-41f5-a8cb-76f76d6f173f",
   "metadata": {},
   "outputs": [
    {
     "name": "stdout",
     "output_type": "stream",
     "text": [
      "{'title': 'Data Analyst', 'skills': ['Python', 'SQL', 'Power BI'], 'experience_years': 3, 'location': 'Nagpur', 'salary': 30000}\n"
     ]
    }
   ],
   "source": [
    "print(mixed_dict2)"
   ]
  },
  {
   "cell_type": "code",
   "execution_count": 17,
   "id": "2fc9d658-324d-4299-a9ee-0ec2776a5a29",
   "metadata": {},
   "outputs": [],
   "source": [
    "mixed_dict3 = {\n",
    "    \"product_name\": \"Laptop\",\n",
    "    \"specifications\": {\"RAM\": \"16GB\", \"Storage\": \"512GB SSD\", \"Processor\": \"Intel i7\"},\n",
    "    \"price\": 55000.99,\n",
    "    \"in_stock\": True,\n",
    "    \"rating\": 4.7\n",
    "}"
   ]
  },
  {
   "cell_type": "code",
   "execution_count": 18,
   "id": "049c9b6a-626d-430e-b89f-80e346ef46d6",
   "metadata": {},
   "outputs": [
    {
     "name": "stdout",
     "output_type": "stream",
     "text": [
      "{'product_name': 'Laptop', 'specifications': {'RAM': '16GB', 'Storage': '512GB SSD', 'Processor': 'Intel i7'}, 'price': 55000.99, 'in_stock': True, 'rating': 4.7}\n"
     ]
    }
   ],
   "source": [
    "print(mixed_dict3)"
   ]
  },
  {
   "cell_type": "code",
   "execution_count": 19,
   "id": "5556e03a-2bad-4dc3-9b35-d6f97bc9cbc1",
   "metadata": {},
   "outputs": [],
   "source": [
    "mixed_dict4 = {\n",
    "    \"is_available\": False,\n",
    "    \"tags\": [\"electronics\", \"gaming\", \"portable\"],\n",
    "    \"brand\": \"intel\",\n",
    "    \"discount_percentage\": 10.5,\n",
    "    \"warranty_years\": 2\n",
    "}"
   ]
  },
  {
   "cell_type": "markdown",
   "id": "c079404b-0f10-4619-a154-197152c77305",
   "metadata": {},
   "source": [
    "print(mixed_dict4)"
   ]
  },
  {
   "cell_type": "code",
   "execution_count": 21,
   "id": "44b6b491-b0ec-4cc0-9e09-abea3d4d2a96",
   "metadata": {},
   "outputs": [],
   "source": [
    "mixed_dict5 = {\n",
    "    \"order_id\": 1010,\n",
    "    \"shipped\": False,\n",
    "    \"customer_name\": \"Nikita Bhujade\",\n",
    "    \"items\": [\"Book\", \"Pen\", \"Notebook\",\"Bag\"],\n",
    "    \"total_price\": 1500.75\n",
    "}"
   ]
  },
  {
   "cell_type": "code",
   "execution_count": 22,
   "id": "031ca9d4-6a63-4688-abe7-ee2b2ebf93d5",
   "metadata": {},
   "outputs": [
    {
     "name": "stdout",
     "output_type": "stream",
     "text": [
      "{'order_id': 1010, 'shipped': False, 'customer_name': 'Nikita Bhujade', 'items': ['Book', 'Pen', 'Notebook', 'Bag'], 'total_price': 1500.75}\n"
     ]
    }
   ],
   "source": [
    "print(mixed_dict5)"
   ]
  },
  {
   "cell_type": "markdown",
   "id": "b4d3def5-82fb-456d-b760-ecd93abe3792",
   "metadata": {},
   "source": [
    "# All Dictionary method"
   ]
  },
  {
   "cell_type": "markdown",
   "id": "8245cc43-3b6d-485b-ba3a-c290f0516215",
   "metadata": {},
   "source": [
    "## clear()\tRemoves all the elements from the dictionary"
   ]
  },
  {
   "cell_type": "code",
   "execution_count": 25,
   "id": "6390ddcd-3421-4446-8a35-843e9bec8c58",
   "metadata": {},
   "outputs": [],
   "source": [
    "my_dict = {'a': 1, 'b': 2, 'c': 3}\n",
    "my_dict.clear()"
   ]
  },
  {
   "cell_type": "code",
   "execution_count": 26,
   "id": "240dee48-c21a-42cd-865f-ea7b34feaf8a",
   "metadata": {},
   "outputs": [
    {
     "name": "stdout",
     "output_type": "stream",
     "text": [
      "{}\n"
     ]
    }
   ],
   "source": [
    "print(my_dict) "
   ]
  },
  {
   "cell_type": "markdown",
   "id": "def1b716-62e8-49ef-adbd-3911da804b22",
   "metadata": {},
   "source": [
    "## copy(): Creates and returns a shallow copy of the dictionary."
   ]
  },
  {
   "cell_type": "code",
   "execution_count": 28,
   "id": "e4240938-f810-45a8-9379-158f61bb4224",
   "metadata": {},
   "outputs": [],
   "source": [
    "dict_oroginal= {'a': 1, 'b': 2, 'c': 3}\n",
    "copy_dictionary =dict_oroginal.copy()"
   ]
  },
  {
   "cell_type": "code",
   "execution_count": 29,
   "id": "aea0db03-625a-4a27-805d-933e9a5210f3",
   "metadata": {},
   "outputs": [
    {
     "name": "stdout",
     "output_type": "stream",
     "text": [
      "{'a': 1, 'b': 2, 'c': 3}\n"
     ]
    }
   ],
   "source": [
    "print(copy_dictionary)"
   ]
  },
  {
   "cell_type": "markdown",
   "id": "c81843fe-ffab-4720-b8f2-d1339bcdc4f1",
   "metadata": {},
   "source": [
    "## fromkeys()\tReturns a dictionary with the specified keys and value"
   ]
  },
  {
   "cell_type": "code",
   "execution_count": 31,
   "id": "b09342d6-8d61-4501-839d-1f4ccf1c4ec6",
   "metadata": {},
   "outputs": [
    {
     "ename": "NameError",
     "evalue": "name 'key' is not defined",
     "output_type": "error",
     "traceback": [
      "\u001b[1;31m---------------------------------------------------------------------------\u001b[0m",
      "\u001b[1;31mNameError\u001b[0m                                 Traceback (most recent call last)",
      "Cell \u001b[1;32mIn[31], line 2\u001b[0m\n\u001b[0;32m      1\u001b[0m keys\u001b[38;5;241m=\u001b[39m{\u001b[38;5;124m'\u001b[39m\u001b[38;5;124ma\u001b[39m\u001b[38;5;124m'\u001b[39m,\u001b[38;5;124m'\u001b[39m\u001b[38;5;124mb\u001b[39m\u001b[38;5;124m'\u001b[39m,\u001b[38;5;124m'\u001b[39m\u001b[38;5;124mc\u001b[39m\u001b[38;5;124m'\u001b[39m}\n\u001b[1;32m----> 2\u001b[0m newDict\u001b[38;5;241m=\u001b[39m\u001b[38;5;28mdict\u001b[39m\u001b[38;5;241m.\u001b[39mfromkeys(key,\u001b[38;5;241m5\u001b[39m)\n",
      "\u001b[1;31mNameError\u001b[0m: name 'key' is not defined"
     ]
    }
   ],
   "source": [
    "keys={'a','b','c'}\n",
    "newDict=dict.fromkeys(key,5)"
   ]
  },
  {
   "cell_type": "code",
   "execution_count": null,
   "id": "e585313d-277a-41c8-8e8c-38e23bfe1e93",
   "metadata": {},
   "outputs": [],
   "source": [
    "print(newDict)"
   ]
  },
  {
   "cell_type": "markdown",
   "id": "1aea17ba-ce5b-40ed-a4e4-bbde755914f9",
   "metadata": {},
   "source": [
    "## get()\tReturns the value of the specified key\n"
   ]
  },
  {
   "cell_type": "code",
   "execution_count": null,
   "id": "98c6c39e-6abc-4aa9-8dac-388c3f735faa",
   "metadata": {},
   "outputs": [],
   "source": [
    "myDict = {'a' :1,'b' :2}\n",
    "value = myDict.get('a')"
   ]
  },
  {
   "cell_type": "code",
   "execution_count": null,
   "id": "168dc58f-4cd1-446f-9be8-3e843b7f6369",
   "metadata": {},
   "outputs": [],
   "source": [
    "print(value)\n"
   ]
  },
  {
   "cell_type": "markdown",
   "id": "12604503-1317-48a5-9e55-501a5b6c990c",
   "metadata": {},
   "source": [
    "## pop()\tRemoves the element with the specified key"
   ]
  },
  {
   "cell_type": "code",
   "execution_count": null,
   "id": "f2c4d958-5b8b-452f-aef5-cdeeab51c966",
   "metadata": {},
   "outputs": [],
   "source": [
    "myDict = {'a' :1,'b' :2}\n",
    "value = myDict.pop('a')"
   ]
  },
  {
   "cell_type": "code",
   "execution_count": null,
   "id": "58bfc429-edba-43e5-8778-bef8fee2dc88",
   "metadata": {},
   "outputs": [],
   "source": [
    "value1 = myDict.get('c','value not found')"
   ]
  },
  {
   "cell_type": "code",
   "execution_count": null,
   "id": "b6b69a07-a9d9-405a-b1b5-7d03720626d2",
   "metadata": {},
   "outputs": [],
   "source": [
    "print(value)"
   ]
  },
  {
   "cell_type": "code",
   "execution_count": null,
   "id": "536bc38d-3f16-405f-ab5e-2a0abe922620",
   "metadata": {},
   "outputs": [],
   "source": [
    "print(myDict)"
   ]
  },
  {
   "cell_type": "code",
   "execution_count": null,
   "id": "4cace6c2-4e90-4c44-99c1-5130155b03f9",
   "metadata": {},
   "outputs": [],
   "source": [
    "print(value1)"
   ]
  },
  {
   "cell_type": "markdown",
   "id": "803cc2ca-dd04-4025-be16-efd97f9cf9b5",
   "metadata": {},
   "source": [
    "## items()\tReturns a list containing a tuple for each key value pair"
   ]
  },
  {
   "cell_type": "code",
   "execution_count": null,
   "id": "d7077a19-10b3-4fc2-9ceb-13de9b93d725",
   "metadata": {},
   "outputs": [],
   "source": [
    "my_dict = {'a': 1, 'b': 2,'c':3,'d':4}\n",
    "items=my_dict.items()"
   ]
  },
  {
   "cell_type": "code",
   "execution_count": null,
   "id": "309dc212-3ea3-44bc-8501-dd89d193555e",
   "metadata": {},
   "outputs": [],
   "source": [
    "print(items)"
   ]
  },
  {
   "cell_type": "markdown",
   "id": "9583f0be-f261-4323-b3a5-60896c9c4e0b",
   "metadata": {},
   "source": [
    "## update() Updates the dictionary with the specified key-value pairs"
   ]
  },
  {
   "cell_type": "code",
   "execution_count": null,
   "id": "33de4f6c-7a42-43eb-a0a2-c2fe0f8dd3cb",
   "metadata": {},
   "outputs": [],
   "source": [
    "my_dict = {'a': 1, 'b': 2,'c':3,'d':4}\n",
    "my_dict.update({'e' :5,'f' :6})"
   ]
  },
  {
   "cell_type": "code",
   "execution_count": null,
   "id": "cc341611-c3b1-46d9-a474-213447895bc4",
   "metadata": {},
   "outputs": [],
   "source": [
    "print(my_dict)"
   ]
  },
  {
   "cell_type": "markdown",
   "id": "599b00fa-92a3-44d5-b8dd-79e5c137c126",
   "metadata": {},
   "source": [
    "## setdefault()\tReturns the value of the specified key. If the key does not "
   ]
  },
  {
   "cell_type": "code",
   "execution_count": null,
   "id": "fa3d4475-83fe-4ac5-945f-675f9bd4ba02",
   "metadata": {},
   "outputs": [],
   "source": [
    "my_dict = {'a':1}\n",
    "value = my_dict.setdefault('b', 2)\n"
   ]
  },
  {
   "cell_type": "code",
   "execution_count": null,
   "id": "82f25d28-3615-4e18-91c2-397a91d98596",
   "metadata": {},
   "outputs": [],
   "source": [
    "print(my_dict)\n",
    "print(value)"
   ]
  },
  {
   "cell_type": "code",
   "execution_count": null,
   "id": "54a126e5-24d2-4849-95b6-0d4b6a35ea92",
   "metadata": {},
   "outputs": [],
   "source": [
    "value = my_dict.setdefault('a', 5)"
   ]
  },
  {
   "cell_type": "code",
   "execution_count": null,
   "id": "f959643c-198e-432b-ae9d-e5b9ff450dbd",
   "metadata": {},
   "outputs": [],
   "source": [
    "print(value)"
   ]
  },
  {
   "cell_type": "markdown",
   "id": "306ccf55-6038-4d19-980b-64087ada876c",
   "metadata": {},
   "source": [
    "## pop(key, default): Removes the key-value pair associated with the specified key and returns the value. If the key is not found, it returns the default value."
   ]
  },
  {
   "cell_type": "code",
   "execution_count": null,
   "id": "c26fd061-7983-4fce-9717-587725a6a51b",
   "metadata": {},
   "outputs": [],
   "source": [
    "my_dict = {'a': 1, 'b': 2}\n",
    "item = my_dict.popitem()"
   ]
  },
  {
   "cell_type": "code",
   "execution_count": null,
   "id": "60270884-bfd8-4220-b558-a4827b7c2239",
   "metadata": {},
   "outputs": [],
   "source": [
    "print(my_dict)"
   ]
  },
  {
   "cell_type": "code",
   "execution_count": null,
   "id": "aae9d08d-1156-4efc-b7af-53326aa4560f",
   "metadata": {},
   "outputs": [],
   "source": [
    "print(item)"
   ]
  },
  {
   "cell_type": "markdown",
   "id": "876a3ca4-c815-45ed-ae2e-92e954114bae",
   "metadata": {},
   "source": [
    "## exist: insert the key, with the specified value"
   ]
  },
  {
   "cell_type": "code",
   "execution_count": 42,
   "id": "2b5bd6ee-2fbb-4d6b-9edd-cb28fbe27911",
   "metadata": {},
   "outputs": [],
   "source": [
    "my_dict = {'a': 1, 'b': 2}\n",
    "result = my_dict.setdefault('c', 3)"
   ]
  },
  {
   "cell_type": "code",
   "execution_count": 44,
   "id": "5c1866c2-012c-4dce-9b10-0d6e55a71f29",
   "metadata": {},
   "outputs": [
    {
     "name": "stdout",
     "output_type": "stream",
     "text": [
      "3\n",
      "{'a': 1, 'b': 2, 'c': 3}\n"
     ]
    }
   ],
   "source": [
    "print(result)  \n",
    "print(my_dict)"
   ]
  },
  {
   "cell_type": "code",
   "execution_count": null,
   "id": "d8b6b5fe-10fc-4471-8552-5c5914182d97",
   "metadata": {},
   "outputs": [],
   "source": []
  }
 ],
 "metadata": {
  "kernelspec": {
   "display_name": "Python 3 (ipykernel)",
   "language": "python",
   "name": "python3"
  },
  "language_info": {
   "codemirror_mode": {
    "name": "ipython",
    "version": 3
   },
   "file_extension": ".py",
   "mimetype": "text/x-python",
   "name": "python",
   "nbconvert_exporter": "python",
   "pygments_lexer": "ipython3",
   "version": "3.12.4"
  }
 },
 "nbformat": 4,
 "nbformat_minor": 5
}
